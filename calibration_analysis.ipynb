{
 "cells": [
  {
   "cell_type": "code",
   "execution_count": 6,
   "metadata": {},
   "outputs": [],
   "source": [
    "import pickle\n",
    "import altair as alt\n",
    "import pandas as pd\n",
    "import numpy as np\n",
    "\n",
    "path = \"./calibration_results\"\n",
    "files = tuple((\"statistics_\", f\"_params_{i}.pickle\") for i in range(4))"
   ]
  },
  {
   "cell_type": "markdown",
   "metadata": {},
   "source": [
    "# HRP Agent"
   ]
  },
  {
   "cell_type": "code",
   "execution_count": 27,
   "metadata": {},
   "outputs": [],
   "source": [
    "agent = \"geneticagent\"\n",
    "agent_files = tuple(\"\".join((t[0], agent, t[1])) for t in files)\n",
    "stats = [pickle.load(open(\"/\".join((path, af)), \"rb\")) for af in agent_files]"
   ]
  },
  {
   "cell_type": "code",
   "execution_count": 12,
   "metadata": {},
   "outputs": [
    {
     "data": {
      "text/plain": [
       "list"
      ]
     },
     "execution_count": 12,
     "metadata": {},
     "output_type": "execute_result"
    }
   ],
   "source": [
    "stats[0]"
   ]
  },
  {
   "cell_type": "code",
   "execution_count": 13,
   "metadata": {},
   "outputs": [
    {
     "data": {
      "text/plain": [
       "Index(['Mean Return', 'Cumulative Returns', 'PnL', 'Volatility',\n",
       "       'Sharpe Ratio', 'Max Drawdown', 'Average Drawdown Time', 'Skewness',\n",
       "       'Kurtosis', 'Tail Ratio', 'VaR', 'CVaR', 'Hit Ratio',\n",
       "       'Average Win to Average Loss', 'Average Profitability per Trade'],\n",
       "      dtype='object')"
      ]
     },
     "execution_count": 13,
     "metadata": {},
     "output_type": "execute_result"
    }
   ],
   "source": [
    "stats[0][0].keys()"
   ]
  },
  {
   "cell_type": "code",
   "execution_count": 15,
   "metadata": {},
   "outputs": [
    {
     "data": {
      "text/html": [
       "<div>\n",
       "<style scoped>\n",
       "    .dataframe tbody tr th:only-of-type {\n",
       "        vertical-align: middle;\n",
       "    }\n",
       "\n",
       "    .dataframe tbody tr th {\n",
       "        vertical-align: top;\n",
       "    }\n",
       "\n",
       "    .dataframe thead th {\n",
       "        text-align: right;\n",
       "    }\n",
       "</style>\n",
       "<table border=\"1\" class=\"dataframe\">\n",
       "  <thead>\n",
       "    <tr style=\"text-align: right;\">\n",
       "      <th></th>\n",
       "      <th>Mean Return</th>\n",
       "      <th>Volatility</th>\n",
       "      <th>Sharpe Ratio</th>\n",
       "      <th>Max Drawdown</th>\n",
       "      <th>Average Drawdown Time</th>\n",
       "      <th>Skewness</th>\n",
       "      <th>Kurtosis</th>\n",
       "      <th>Tail Ratio</th>\n",
       "      <th>VaR</th>\n",
       "      <th>CVaR</th>\n",
       "      <th>Hit Ratio</th>\n",
       "      <th>Average Win to Average Loss</th>\n",
       "      <th>Average Profitability per Trade</th>\n",
       "    </tr>\n",
       "  </thead>\n",
       "  <tbody>\n",
       "    <tr>\n",
       "      <th>0</th>\n",
       "      <td>0.000310</td>\n",
       "      <td>0.000024</td>\n",
       "      <td>13.014029</td>\n",
       "      <td>0.0</td>\n",
       "      <td>1</td>\n",
       "      <td>0.036034</td>\n",
       "      <td>0.018615</td>\n",
       "      <td>1.282706</td>\n",
       "      <td>0.000272</td>\n",
       "      <td>0.000263</td>\n",
       "      <td>1.0</td>\n",
       "      <td>NaN</td>\n",
       "      <td>NaN</td>\n",
       "    </tr>\n",
       "    <tr>\n",
       "      <th>1</th>\n",
       "      <td>0.000311</td>\n",
       "      <td>0.000026</td>\n",
       "      <td>12.086022</td>\n",
       "      <td>0.0</td>\n",
       "      <td>1</td>\n",
       "      <td>-0.032411</td>\n",
       "      <td>0.052715</td>\n",
       "      <td>1.316236</td>\n",
       "      <td>0.000270</td>\n",
       "      <td>0.000257</td>\n",
       "      <td>1.0</td>\n",
       "      <td>NaN</td>\n",
       "      <td>NaN</td>\n",
       "    </tr>\n",
       "    <tr>\n",
       "      <th>2</th>\n",
       "      <td>0.000310</td>\n",
       "      <td>0.000025</td>\n",
       "      <td>12.418706</td>\n",
       "      <td>0.0</td>\n",
       "      <td>1</td>\n",
       "      <td>0.583596</td>\n",
       "      <td>4.885651</td>\n",
       "      <td>1.279636</td>\n",
       "      <td>0.000270</td>\n",
       "      <td>0.000260</td>\n",
       "      <td>1.0</td>\n",
       "      <td>NaN</td>\n",
       "      <td>NaN</td>\n",
       "    </tr>\n",
       "    <tr>\n",
       "      <th>3</th>\n",
       "      <td>0.000310</td>\n",
       "      <td>0.000024</td>\n",
       "      <td>12.907126</td>\n",
       "      <td>0.0</td>\n",
       "      <td>1</td>\n",
       "      <td>0.080461</td>\n",
       "      <td>-0.041583</td>\n",
       "      <td>1.288873</td>\n",
       "      <td>0.000271</td>\n",
       "      <td>0.000263</td>\n",
       "      <td>1.0</td>\n",
       "      <td>NaN</td>\n",
       "      <td>NaN</td>\n",
       "    </tr>\n",
       "    <tr>\n",
       "      <th>4</th>\n",
       "      <td>0.000311</td>\n",
       "      <td>0.000025</td>\n",
       "      <td>12.332092</td>\n",
       "      <td>0.0</td>\n",
       "      <td>1</td>\n",
       "      <td>-0.015790</td>\n",
       "      <td>0.147702</td>\n",
       "      <td>1.318042</td>\n",
       "      <td>0.000268</td>\n",
       "      <td>0.000257</td>\n",
       "      <td>1.0</td>\n",
       "      <td>NaN</td>\n",
       "      <td>NaN</td>\n",
       "    </tr>\n",
       "    <tr>\n",
       "      <th>5</th>\n",
       "      <td>0.000311</td>\n",
       "      <td>0.000025</td>\n",
       "      <td>12.362965</td>\n",
       "      <td>0.0</td>\n",
       "      <td>1</td>\n",
       "      <td>0.126361</td>\n",
       "      <td>0.249995</td>\n",
       "      <td>1.315709</td>\n",
       "      <td>0.000270</td>\n",
       "      <td>0.000260</td>\n",
       "      <td>1.0</td>\n",
       "      <td>NaN</td>\n",
       "      <td>NaN</td>\n",
       "    </tr>\n",
       "    <tr>\n",
       "      <th>6</th>\n",
       "      <td>0.000310</td>\n",
       "      <td>0.000024</td>\n",
       "      <td>12.826650</td>\n",
       "      <td>0.0</td>\n",
       "      <td>1</td>\n",
       "      <td>-0.091140</td>\n",
       "      <td>-0.132570</td>\n",
       "      <td>1.299217</td>\n",
       "      <td>0.000269</td>\n",
       "      <td>0.000259</td>\n",
       "      <td>1.0</td>\n",
       "      <td>NaN</td>\n",
       "      <td>NaN</td>\n",
       "    </tr>\n",
       "    <tr>\n",
       "      <th>7</th>\n",
       "      <td>0.000312</td>\n",
       "      <td>0.000025</td>\n",
       "      <td>12.270751</td>\n",
       "      <td>0.0</td>\n",
       "      <td>1</td>\n",
       "      <td>-0.068151</td>\n",
       "      <td>-0.230872</td>\n",
       "      <td>1.311103</td>\n",
       "      <td>0.000268</td>\n",
       "      <td>0.000260</td>\n",
       "      <td>1.0</td>\n",
       "      <td>NaN</td>\n",
       "      <td>NaN</td>\n",
       "    </tr>\n",
       "    <tr>\n",
       "      <th>8</th>\n",
       "      <td>0.000312</td>\n",
       "      <td>0.000025</td>\n",
       "      <td>12.404709</td>\n",
       "      <td>0.0</td>\n",
       "      <td>1</td>\n",
       "      <td>-0.050350</td>\n",
       "      <td>-0.311362</td>\n",
       "      <td>1.305151</td>\n",
       "      <td>0.000270</td>\n",
       "      <td>0.000260</td>\n",
       "      <td>1.0</td>\n",
       "      <td>NaN</td>\n",
       "      <td>NaN</td>\n",
       "    </tr>\n",
       "    <tr>\n",
       "      <th>9</th>\n",
       "      <td>0.000310</td>\n",
       "      <td>0.000025</td>\n",
       "      <td>12.535988</td>\n",
       "      <td>0.0</td>\n",
       "      <td>1</td>\n",
       "      <td>-0.080549</td>\n",
       "      <td>0.162699</td>\n",
       "      <td>1.300701</td>\n",
       "      <td>0.000269</td>\n",
       "      <td>0.000259</td>\n",
       "      <td>1.0</td>\n",
       "      <td>NaN</td>\n",
       "      <td>NaN</td>\n",
       "    </tr>\n",
       "  </tbody>\n",
       "</table>\n",
       "</div>"
      ],
      "text/plain": [
       "   Mean Return  Volatility  Sharpe Ratio  Max Drawdown  Average Drawdown Time  \\\n",
       "0     0.000310    0.000024     13.014029           0.0                      1   \n",
       "1     0.000311    0.000026     12.086022           0.0                      1   \n",
       "2     0.000310    0.000025     12.418706           0.0                      1   \n",
       "3     0.000310    0.000024     12.907126           0.0                      1   \n",
       "4     0.000311    0.000025     12.332092           0.0                      1   \n",
       "5     0.000311    0.000025     12.362965           0.0                      1   \n",
       "6     0.000310    0.000024     12.826650           0.0                      1   \n",
       "7     0.000312    0.000025     12.270751           0.0                      1   \n",
       "8     0.000312    0.000025     12.404709           0.0                      1   \n",
       "9     0.000310    0.000025     12.535988           0.0                      1   \n",
       "\n",
       "   Skewness  Kurtosis  Tail Ratio       VaR      CVaR  Hit Ratio  \\\n",
       "0  0.036034  0.018615    1.282706  0.000272  0.000263        1.0   \n",
       "1 -0.032411  0.052715    1.316236  0.000270  0.000257        1.0   \n",
       "2  0.583596  4.885651    1.279636  0.000270  0.000260        1.0   \n",
       "3  0.080461 -0.041583    1.288873  0.000271  0.000263        1.0   \n",
       "4 -0.015790  0.147702    1.318042  0.000268  0.000257        1.0   \n",
       "5  0.126361  0.249995    1.315709  0.000270  0.000260        1.0   \n",
       "6 -0.091140 -0.132570    1.299217  0.000269  0.000259        1.0   \n",
       "7 -0.068151 -0.230872    1.311103  0.000268  0.000260        1.0   \n",
       "8 -0.050350 -0.311362    1.305151  0.000270  0.000260        1.0   \n",
       "9 -0.080549  0.162699    1.300701  0.000269  0.000259        1.0   \n",
       "\n",
       "   Average Win to Average Loss  Average Profitability per Trade  \n",
       "0                          NaN                              NaN  \n",
       "1                          NaN                              NaN  \n",
       "2                          NaN                              NaN  \n",
       "3                          NaN                              NaN  \n",
       "4                          NaN                              NaN  \n",
       "5                          NaN                              NaN  \n",
       "6                          NaN                              NaN  \n",
       "7                          NaN                              NaN  \n",
       "8                          NaN                              NaN  \n",
       "9                          NaN                              NaN  "
      ]
     },
     "execution_count": 15,
     "metadata": {},
     "output_type": "execute_result"
    }
   ],
   "source": [
    "filtered_stats = [{k: v for k, v in s.items() if k not in [\"Cumulative Returns\", \"PnL\"]} for s in stats[0]]\n",
    "pd.DataFrame(filtered_stats)"
   ]
  },
  {
   "cell_type": "code",
   "execution_count": 32,
   "metadata": {},
   "outputs": [
    {
     "data": {
      "text/plain": [
       "2020-01-01    1.000272\n",
       "2020-01-02    1.000609\n",
       "2020-01-03    1.005820\n",
       "2020-01-04    1.006156\n",
       "2020-01-05    1.006492\n",
       "                ...   \n",
       "2021-09-26    8.493551\n",
       "2021-09-27    8.141142\n",
       "2021-09-28    7.881734\n",
       "2021-09-29    7.821542\n",
       "2021-09-30    8.317929\n",
       "Length: 639, dtype: float64"
      ]
     },
     "execution_count": 32,
     "metadata": {},
     "output_type": "execute_result"
    }
   ],
   "source": [
    "stats[3][5][\"PnL\"]"
   ]
  },
  {
   "cell_type": "code",
   "execution_count": 9,
   "metadata": {},
   "outputs": [
    {
     "ename": "TypeError",
     "evalue": "list indices must be integers or slices, not str",
     "output_type": "error",
     "traceback": [
      "\u001b[0;31m---------------------------------------------------------------------------\u001b[0m",
      "\u001b[0;31mTypeError\u001b[0m                                 Traceback (most recent call last)",
      "\u001b[0;32m/tmp/ipykernel_694/4102341532.py\u001b[0m in \u001b[0;36m<module>\u001b[0;34m\u001b[0m\n\u001b[0;32m----> 1\u001b[0;31m \u001b[0mmean_return\u001b[0m \u001b[0;34m=\u001b[0m \u001b[0;34m(\u001b[0m\u001b[0mnp\u001b[0m\u001b[0;34m.\u001b[0m\u001b[0mmean\u001b[0m\u001b[0;34m(\u001b[0m\u001b[0;34m[\u001b[0m\u001b[0ms\u001b[0m\u001b[0;34m[\u001b[0m\u001b[0;34m\"Mean Return\"\u001b[0m\u001b[0;34m]\u001b[0m \u001b[0;32mfor\u001b[0m \u001b[0ms\u001b[0m \u001b[0;32min\u001b[0m \u001b[0mstats\u001b[0m\u001b[0;34m]\u001b[0m\u001b[0;34m)\u001b[0m\u001b[0;34m,\u001b[0m \u001b[0mnp\u001b[0m\u001b[0;34m.\u001b[0m\u001b[0mstd\u001b[0m\u001b[0;34m(\u001b[0m\u001b[0;34m[\u001b[0m\u001b[0ms\u001b[0m\u001b[0;34m[\u001b[0m\u001b[0;34m\"Mean Return\"\u001b[0m\u001b[0;34m]\u001b[0m \u001b[0;32mfor\u001b[0m \u001b[0ms\u001b[0m \u001b[0;32min\u001b[0m \u001b[0mstats\u001b[0m\u001b[0;34m]\u001b[0m\u001b[0;34m)\u001b[0m\u001b[0;34m)\u001b[0m\u001b[0;34m\u001b[0m\u001b[0;34m\u001b[0m\u001b[0m\n\u001b[0m\u001b[1;32m      2\u001b[0m \u001b[0mmean_return\u001b[0m\u001b[0;34m\u001b[0m\u001b[0;34m\u001b[0m\u001b[0m\n",
      "\u001b[0;32m/tmp/ipykernel_694/4102341532.py\u001b[0m in \u001b[0;36m<listcomp>\u001b[0;34m(.0)\u001b[0m\n\u001b[0;32m----> 1\u001b[0;31m \u001b[0mmean_return\u001b[0m \u001b[0;34m=\u001b[0m \u001b[0;34m(\u001b[0m\u001b[0mnp\u001b[0m\u001b[0;34m.\u001b[0m\u001b[0mmean\u001b[0m\u001b[0;34m(\u001b[0m\u001b[0;34m[\u001b[0m\u001b[0ms\u001b[0m\u001b[0;34m[\u001b[0m\u001b[0;34m\"Mean Return\"\u001b[0m\u001b[0;34m]\u001b[0m \u001b[0;32mfor\u001b[0m \u001b[0ms\u001b[0m \u001b[0;32min\u001b[0m \u001b[0mstats\u001b[0m\u001b[0;34m]\u001b[0m\u001b[0;34m)\u001b[0m\u001b[0;34m,\u001b[0m \u001b[0mnp\u001b[0m\u001b[0;34m.\u001b[0m\u001b[0mstd\u001b[0m\u001b[0;34m(\u001b[0m\u001b[0;34m[\u001b[0m\u001b[0ms\u001b[0m\u001b[0;34m[\u001b[0m\u001b[0;34m\"Mean Return\"\u001b[0m\u001b[0;34m]\u001b[0m \u001b[0;32mfor\u001b[0m \u001b[0ms\u001b[0m \u001b[0;32min\u001b[0m \u001b[0mstats\u001b[0m\u001b[0;34m]\u001b[0m\u001b[0;34m)\u001b[0m\u001b[0;34m)\u001b[0m\u001b[0;34m\u001b[0m\u001b[0;34m\u001b[0m\u001b[0m\n\u001b[0m\u001b[1;32m      2\u001b[0m \u001b[0mmean_return\u001b[0m\u001b[0;34m\u001b[0m\u001b[0;34m\u001b[0m\u001b[0m\n",
      "\u001b[0;31mTypeError\u001b[0m: list indices must be integers or slices, not str"
     ]
    }
   ],
   "source": [
    "stats_params = {}\n",
    "for i in range(4):\n",
    "    for k in stats[i]\n",
    "    stats_params[i][\"mean_return_mean\"] = np.mean((s[\"Mean Returns\"] for s in stats[i]))\n",
    "    stats_params[i][\"mean_return_std\"] = np.std((s[\"Mean Returns\"] for s in stats[i]), ddof=1)\n",
    "    stats_params[i][\"sharpe_ratio_mean\"] = np.mean((s[\"Sharpe Ratio\"] for s in stats[i]))\n",
    "    stats_params[i][\"sharpe_ratio_std\"] = np.std((s[\"Sharpe Ratio\"] for s in stats[i]), ddof=1)\n",
    "    stats_params[i][\"max_drawdown_mean\"] = np.mean((s[\"Max Drawdown\"] for s in stats[i]))\n",
    "    stats_params[i][\"mean_return_std\"] = np.std((s[\"Mean Returns\"] for s in stats[i]), ddof=1)\n",
    "    stats_params[i][\"mean_return_mean\"] = np.mean((s[\"Mean Returns\"] for s in stats[i]))\n",
    "    stats_params[i][\"mean_return_std\"] = np.std((s[\"Mean Returns\"] for s in stats[i]), ddof=1)\n",
    "    stats_params[i][\"mean_return_mean\"] = np.mean((s[\"Mean Returns\"] for s in stats[i]))\n",
    "    stats_params[i][\"mean_return_std\"] = np.std((s[\"Mean Returns\"] for s in stats[i]), ddof=1)"
   ]
  },
  {
   "cell_type": "code",
   "execution_count": null,
   "metadata": {},
   "outputs": [],
   "source": []
  }
 ],
 "metadata": {
  "interpreter": {
   "hash": "21bc7ee4ca9307b6aa3e5c7373a01f518f5a7bbc8d3f20255ad19b849741037a"
  },
  "kernelspec": {
   "display_name": "Python 3.8.10 64-bit ('cryptotrading-5BVsWvrE': pipenv)",
   "language": "python",
   "name": "python3"
  },
  "language_info": {
   "codemirror_mode": {
    "name": "ipython",
    "version": 3
   },
   "file_extension": ".py",
   "mimetype": "text/x-python",
   "name": "python",
   "nbconvert_exporter": "python",
   "pygments_lexer": "ipython3",
   "version": "3.8.10"
  },
  "orig_nbformat": 4
 },
 "nbformat": 4,
 "nbformat_minor": 2
}
